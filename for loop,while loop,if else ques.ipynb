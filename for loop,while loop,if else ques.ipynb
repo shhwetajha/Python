{
 "cells": [
  {
   "cell_type": "code",
   "execution_count": 2,
   "id": "57c6f27a",
   "metadata": {},
   "outputs": [
    {
     "name": "stdout",
     "output_type": "stream",
     "text": [
      "-10\n",
      "-9\n",
      "-8\n",
      "-7\n",
      "-6\n",
      "-5\n",
      "-4\n",
      "-3\n",
      "-2\n",
      "-1\n",
      "0\n",
      "1\n",
      "2\n",
      "3\n",
      "4\n",
      "5\n",
      "6\n",
      "7\n",
      "8\n",
      "9\n",
      "10\n"
     ]
    }
   ],
   "source": [
    "#program to display the number from negative to positive using for loop:-\n",
    "for i in range(-10,11):\n",
    "    print(i)"
   ]
  },
  {
   "cell_type": "code",
   "execution_count": 4,
   "id": "7f84f642",
   "metadata": {},
   "outputs": [
    {
     "name": "stdout",
     "output_type": "stream",
     "text": [
      "10\n",
      "9\n",
      "8\n",
      "7\n",
      "6\n",
      "5\n",
      "4\n",
      "3\n",
      "2\n",
      "1\n",
      "0\n",
      "-1\n",
      "-2\n",
      "-3\n",
      "-4\n",
      "-5\n",
      "-6\n",
      "-7\n",
      "-8\n",
      "-9\n",
      "-10\n"
     ]
    }
   ],
   "source": [
    "#program to display the number from positive to negative using for loop:-\n",
    "for i in range(10,-11,-1):\n",
    "    print(i)"
   ]
  },
  {
   "cell_type": "code",
   "execution_count": null,
   "id": "f8a15a61",
   "metadata": {},
   "outputs": [],
   "source": []
  },
  {
   "cell_type": "code",
   "execution_count": 1,
   "id": "8a6f425e",
   "metadata": {},
   "outputs": [
    {
     "name": "stdout",
     "output_type": "stream",
     "text": [
      "enter the year:2001\n",
      "2001 is not a leap year\n"
     ]
    }
   ],
   "source": [
    "#program to find leap year:-\n",
    "n=int(input(\"enter the year:\"))\n",
    "if n%4==0:\n",
    "    if n%100==0:\n",
    "        if n%400==0:\n",
    "            print(n,\" century year is a leap year\")\n",
    "        else:\n",
    "            print(n,\"not a leap year\")\n",
    "    else:\n",
    "        print(n,\"is a leap year\")\n",
    "else:\n",
    "    print(n,\"is not a leap year\")"
   ]
  },
  {
   "cell_type": "code",
   "execution_count": 6,
   "id": "56248fd5",
   "metadata": {},
   "outputs": [
    {
     "name": "stdout",
     "output_type": "stream",
     "text": [
      "enter the value of a:12\n",
      "enter the value of b:10\n",
      "enter the value of c:2\n",
      "12 is largest than 10 and 2\n"
     ]
    }
   ],
   "source": [
    "#program to compare three nos:-\n",
    "a=int(input(\"enter the value of a:\"))\n",
    "b=int(input(\"enter the value of b:\"))\n",
    "c=int(input(\"enter the value of c:\"))\n",
    "if a>b and a>c:\n",
    "    print(a,\"is largest than\", b,\"and\", c)\n",
    "elif b>a and b>c:\n",
    "    print(b,\"is largest than\", a ,\"and\", c)\n",
    "elif c>a and c>b:\n",
    "    print(c,\"is largest than\" ,a ,\"and\" ,b)\n",
    "elif a==b and a>c:\n",
    "    print(\"a and b are equal and is larger than c\")\n",
    "elif b==c and b>a:\n",
    "    print(\"b and c are equal and is larger than a\")\n",
    "elif c==a and c>b:\n",
    "    print(\"c and a are equal and is larger than b\")\n",
    "else:\n",
    "    print(\"all are equal\")\n",
    "    \n",
    "    "
   ]
  },
  {
   "cell_type": "code",
   "execution_count": 42,
   "id": "c46362d7",
   "metadata": {},
   "outputs": [
    {
     "name": "stdout",
     "output_type": "stream",
     "text": [
      "enter the no. of which you want factor?\n",
      "12\n",
      "The factor of the 12 :1 2 3 4 6 12 "
     ]
    }
   ],
   "source": [
    "#program to find factors:-\n",
    "n=int(input(\"enter the no. of which you want factor?\\n\"))\n",
    "print(\"The factor of the\",n ,\":\",end=\"\")\n",
    "i=1\n",
    "while i<=n:\n",
    "    if n%i==0:\n",
    "        print(i, end=\" \")\n",
    "    i=i+1"
   ]
  },
  {
   "cell_type": "markdown",
   "id": "e5690773",
   "metadata": {},
   "source": [
    "#Program to find GCD:-"
   ]
  },
  {
   "cell_type": "code",
   "execution_count": 49,
   "id": "ed52ae0c",
   "metadata": {},
   "outputs": [
    {
     "name": "stdout",
     "output_type": "stream",
     "text": [
      "enter the no.6\n",
      "enter the no.4\n",
      "GCD of  6 and 4 : 2\n"
     ]
    }
   ],
   "source": [
    "a=int(input(\"enter the no.\"))\n",
    "b=int(input(\"enter the no.\"))\n",
    "i=1\n",
    "while i<=a and i<=b:\n",
    "    if a%i==0 and b%i==0:\n",
    "        gcd=i\n",
    "    i=i+1\n",
    "print(\"GCD of \",a,\"and\",b,\":\",gcd)"
   ]
  },
  {
   "cell_type": "code",
   "execution_count": 2,
   "id": "d7fc3164",
   "metadata": {},
   "outputs": [
    {
     "name": "stdout",
     "output_type": "stream",
     "text": [
      "enter till what extent do you want?\n",
      "4\n",
      "10 is the sum of first n natural no.\n"
     ]
    }
   ],
   "source": [
    "#program to find n natural nos:-\n",
    "n=int(input(\"enter till what extent do you want?\\n\"))\n",
    "i=1\n",
    "sum=0\n",
    "while (n>=i):\n",
    "    sum=sum+i\n",
    "    i=i+1\n",
    "print(sum,\"is the sum of first n natural no.\")\n",
    "    "
   ]
  },
  {
   "cell_type": "code",
   "execution_count": 3,
   "id": "4c8cda9a",
   "metadata": {},
   "outputs": [
    {
     "name": "stdout",
     "output_type": "stream",
     "text": [
      "enter the vaues of sum:234\n",
      "9\n"
     ]
    }
   ],
   "source": [
    "#program to find sum of the number:-\n",
    "i=int(input(\"enter the vaues of sum:\")) \n",
    "sum=0\n",
    "while i>0: \n",
    "    sum=sum+i%10 \n",
    "    i=i//10 \n",
    "print(sum)"
   ]
  },
  {
   "cell_type": "code",
   "execution_count": null,
   "id": "92288c1f",
   "metadata": {},
   "outputs": [],
   "source": [
    "#fibonacci series:-\n",
    "n=int(input(\"Enter the value till you want fibonacci series:\"))\n",
    "n1=0\n",
    "n2=1\n",
    "count=0\n",
    "print(n1)\n",
    "print(n2)\n",
    "while(count<n):\n",
    "    n3=n1+n2\n",
    "    print(n1)\n",
    "    n1=n2\n",
    "    n2=n3\n",
    "count=count+1\n",
    "    \n",
    "    "
   ]
  },
  {
   "cell_type": "code",
   "execution_count": 3,
   "id": "e8587d31",
   "metadata": {},
   "outputs": [
    {
     "name": "stdout",
     "output_type": "stream",
     "text": [
      "enter the name:kayak\n",
      "kayak\n",
      "p\n"
     ]
    }
   ],
   "source": [
    "#program to identify palindrome or not:-\n",
    "a=input(\"enter the name:\")\n",
    "b=\"\"\n",
    "for i in a:\n",
    "    b=i+b\n",
    "print(b)\n",
    "\n",
    "if b==a:\n",
    "    print(\"p\")\n",
    "else:\n",
    "    print(\"NP\")\n",
    "\n",
    "     "
   ]
  },
  {
   "cell_type": "code",
   "execution_count": null,
   "id": "ea227f8f",
   "metadata": {},
   "outputs": [],
   "source": []
  }
 ],
 "metadata": {
  "kernelspec": {
   "display_name": "Python 3 (ipykernel)",
   "language": "python",
   "name": "python3"
  },
  "language_info": {
   "codemirror_mode": {
    "name": "ipython",
    "version": 3
   },
   "file_extension": ".py",
   "mimetype": "text/x-python",
   "name": "python",
   "nbconvert_exporter": "python",
   "pygments_lexer": "ipython3",
   "version": "3.9.12"
  }
 },
 "nbformat": 4,
 "nbformat_minor": 5
}
